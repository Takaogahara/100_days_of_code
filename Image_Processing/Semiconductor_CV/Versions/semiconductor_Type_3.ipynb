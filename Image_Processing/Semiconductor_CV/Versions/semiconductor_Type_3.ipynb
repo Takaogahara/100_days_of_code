{
 "cells": [
  {
   "cell_type": "code",
   "execution_count": 1,
   "metadata": {
    "tags": []
   },
   "outputs": [],
   "source": [
    "import numpy as np\n",
    "from PIL import Image\n",
    "import matplotlib.pyplot as plt\n",
    "import os\n",
    "\n",
    "import tensorflow as tf\n",
    "from tensorflow import keras\n",
    "from keras.preprocessing.image import ImageDataGenerator\n",
    "\n",
    "print(f'Tensorflow version: {tf.__version__}')\n",
    "print(f'Keras version: {keras.__version__}')\n",
    "\n",
    "from tensorflow.compat.v1 import ConfigProto\n",
    "from tensorflow.compat.v1 import InteractiveSession\n",
    "\n",
    "config = ConfigProto()\n",
    "config.gpu_options.allow_growth = True\n",
    "config.gpu_options.per_process_gpu_memory_fraction = 0.8\n",
    "config.gpu_options.visible_device_list = '0'\n",
    "session = InteractiveSession(config=config)"
   ]
  },
  {
   "cell_type": "code",
   "execution_count": null,
   "metadata": {},
   "outputs": [],
   "source": [
    "general_path = ('D:/Code/Source/Semiconductor CV/Images/')\n",
    "\n",
    "train_path = ('D:/Code/Source/Semiconductor CV/Images/Train/')\n",
    "test_path = ('D:/Code/Source/Semiconductor CV/Images/Test/')\n",
    "\n",
    "image_count = sum(len(files) for _, _, files in os.walk(train_path))\n",
    "CLASS_NAMES = np.array([name for name in os.listdir(train_path) if os.path.isdir(general_path)])"
   ]
  },
  {
   "cell_type": "code",
   "execution_count": null,
   "metadata": {
    "tags": []
   },
   "outputs": [],
   "source": [
    "BATCH_SIZE = 64\n",
    "TARGET_SIZE = (224,224)\n",
    "\n",
    "datagen = ImageDataGenerator(rescale=1./255)\n",
    "\n",
    "train_images_gen = datagen.flow_from_directory(train_path, batch_size=BATCH_SIZE, target_size=TARGET_SIZE, shuffle=True, classes=list(CLASS_NAMES))\n",
    "test_images_gen = datagen.flow_from_directory(test_path, batch_size=BATCH_SIZE, target_size=TARGET_SIZE, shuffle=True)"
   ]
  },
  {
   "cell_type": "code",
   "execution_count": null,
   "metadata": {},
   "outputs": [],
   "source": [
    "train_images_gen.class_indices['bad']\n",
    "\n",
    "# train_images.classes[0]"
   ]
  },
  {
   "cell_type": "code",
   "execution_count": null,
   "metadata": {},
   "outputs": [],
   "source": [
    "def show_batch(image_batch, label_batch):\n",
    "    plt.figure(figsize=(10,10))\n",
    "    \n",
    "    for img_num in range(10):\n",
    "        ax = plt.subplot(5,5,img_num+1)\n",
    "        plt.imshow(image_batch[img_num])\n",
    "        plt.title(CLASS_NAMES[label_batch[img_num]])\n",
    "        plt.axis('off')\n",
    "\n",
    "tuner_image, batch_label = next(train_images_gen)\n",
    "\n",
    "tuner_label = []\n",
    "for iter_tuner in range(len(batch_label)):\n",
    "    if (batch_label[iter_tuner][0] == 0.0):\n",
    "        tuner_label.append(1)\n",
    "    else:\n",
    "        tuner_label.append(0)\n",
    "tuner_label = np.array(tuner_label) \n",
    "\n",
    "show_batch(tuner_image, tuner_label)"
   ]
  },
  {
   "cell_type": "code",
   "execution_count": null,
   "metadata": {},
   "outputs": [],
   "source": [
    "tuner_label.shape"
   ]
  },
  {
   "cell_type": "code",
   "execution_count": null,
   "metadata": {},
   "outputs": [],
   "source": [
    "def build_model(hp):\n",
    "    model = keras.Sequential([\n",
    "        keras.layers.Conv2D(\n",
    "            filters = hp.Int('conv_1_filter', min_value = 32, max_value = 128, step = 16),   \n",
    "            kernel_size = hp.Choice('conv_1_kernel', values = [3,5,7]),                \n",
    "            activation = 'relu',\n",
    "            input_shape = (224, 224, 3)\n",
    "        ),\n",
    "        keras.layers.Conv2D(\n",
    "            filters = hp.Int('conv_2_filter', min_value = 32, max_value = 128, step = 16),\n",
    "            kernel_size = hp.Choice('conv_2_kernel', values = [3,5,7]),\n",
    "            activation = 'relu'\n",
    "        ),\n",
    "        keras.layers.Flatten(),\n",
    "        keras.layers.Dense(\n",
    "            units = hp.Int('dense_1_units', min_value = 32, max_value = 128, step = 16),\n",
    "            activation = 'relu'\n",
    "        ),\n",
    "        keras.layers.Dense(2, activation = 'softmax')     \n",
    "        ])\n",
    "\n",
    "    model.compile(optimizer = keras.optimizers.Adam(hp.Choice('learning_rate', values = [1e-2, 1e-3, 1e-4])),\n",
    "                  loss = 'sparse_categorical_crossentropy',\n",
    "                  metrics = ['accuracy'])\n",
    "    \n",
    "    return model"
   ]
  },
  {
   "cell_type": "code",
   "execution_count": null,
   "metadata": {
    "tags": []
   },
   "outputs": [],
   "source": [
    "from kerastuner import RandomSearch\n",
    "from kerastuner.engine.hyperparameters import HyperParameters\n",
    "\n",
    "tuner_search = RandomSearch(build_model, max_trials = 5, objective = 'val_accuracy', project_name='Kerastuner', directory='D:/Code/Source/Semiconductor CV/')\n",
    "\n",
    "# with tf.device('/GPU:0'):\n",
    "tuner_search.search(tuner_image, tuner_label, epochs = 3, validation_split = 0.1, verbose = 2)"
   ]
  },
  {
   "cell_type": "code",
   "execution_count": null,
   "metadata": {},
   "outputs": [],
   "source": [
    "model = tuner_search.get_best_models(num_models=1)[0]\n",
    "model.summary()"
   ]
  },
  {
   "cell_type": "code",
   "execution_count": null,
   "metadata": {},
   "outputs": [],
   "source": [
    "model.fit(\n",
    "        train_images_gen, \n",
    "        epochs=10, initial_epoch=0, \n",
    "        validation_split=0.1,\n",
    "        verbose=2\n",
    "        )"
   ]
  },
  {
   "cell_type": "code",
   "execution_count": null,
   "metadata": {},
   "outputs": [],
   "source": [
    "model.fit(\n",
    "        train_images_gen,\n",
    "        steps_per_epoch=np.ceil(image_count/BATCH_SIZE),\n",
    "        epochs=10\n",
    "        )\n",
    "model.save_weights('first_try.h5')"
   ]
  }
 ],
 "metadata": {
  "kernelspec": {
   "display_name": "Python 3",
   "language": "python",
   "name": "python3"
  },
  "language_info": {
   "codemirror_mode": {
    "name": "ipython",
    "version": 3
   },
   "file_extension": ".py",
   "mimetype": "text/x-python",
   "name": "python",
   "nbconvert_exporter": "python",
   "pygments_lexer": "ipython3",
   "version": "3.7.7-final"
  }
 },
 "nbformat": 4,
 "nbformat_minor": 4
}